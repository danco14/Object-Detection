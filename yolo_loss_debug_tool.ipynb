{
 "cells": [
  {
   "cell_type": "code",
   "execution_count": 11,
   "metadata": {},
   "outputs": [
    {
     "name": "stdout",
     "output_type": "stream",
     "text": [
      "The autoreload extension is already loaded. To reload it, use:\n",
      "  %reload_ext autoreload\n"
     ]
    }
   ],
   "source": [
    "import torch\n",
    "from yolo_loss import YoloLoss\n",
    "%load_ext autoreload\n",
    "%autoreload 2"
   ]
  },
  {
   "cell_type": "markdown",
   "metadata": {},
   "source": [
    "# Yolo Loss Debug Tool\n",
    "We provide a simple debug tool for you to debug each part of the YoloLoss class. \n",
    "\n",
    "This tool is just for helping debug and you don't need to submit any results from this notebook. \n",
    "\n",
    "We highly suggest that you first make sure your yolo function works properly, before massive training. \n",
    "\n",
    "__NOTE__:\n",
    "This tool is designed to run on CPU. If you want to run on GPU, for every input data and output data loaded, add ```.to(device)```\n",
    "- if you get device (cpu/gpu) mis-match error like \"expected type torch.FloatTensor but got torch.cuda.FloatTensor\n",
    "\", make sure all your variables have consistent device assignment inside functions.\n"
   ]
  },
  {
   "cell_type": "code",
   "execution_count": 2,
   "metadata": {},
   "outputs": [],
   "source": [
    "# some help function\n",
    "def test_error(diff, test='', eps=1e-5):\n",
    "    if isinstance(diff, torch.Tensor):\n",
    "        diff = diff.cpu().detach().float()\n",
    "    print('Error is %f.' % diff)\n",
    "    if diff < eps:\n",
    "        print(\"- You pass the test for %s!\" % test)\n",
    "    else:\n",
    "        print(\"- emm.. something wrong. maybe double check your implemention.\")\n"
   ]
  },
  {
   "cell_type": "markdown",
   "metadata": {},
   "source": [
    "## Create A YoloLoss Instance"
   ]
  },
  {
   "cell_type": "code",
   "execution_count": 3,
   "metadata": {},
   "outputs": [],
   "source": [
    "# don't change the hyperparameter here\n",
    "yolo = YoloLoss(S=14, B=2, l_coord=5, l_noobj=0.5)"
   ]
  },
  {
   "cell_type": "markdown",
   "metadata": {},
   "source": [
    "## Test get_class_prediction_loss function\n",
    "- run the following block to check if your ```YoloLoss.get_class_prediction_loss()``` function implementation correctly.\n",
    "- Note: this test doesn't test edge cases, so passing this test doesn't guarantee bug-free. However, if you can't pass this test, then your implementation must have bug.\n",
    "- Note: This test assume your reduction method is 'sum'"
   ]
  },
  {
   "cell_type": "code",
   "execution_count": 63,
   "metadata": {},
   "outputs": [
    {
     "name": "stdout",
     "output_type": "stream",
     "text": [
      "Error is 0.000000.\n",
      "- You pass the test for get_class_prediction!\n"
     ]
    }
   ],
   "source": [
    "# load test cases\n",
    "func_name = 'get_class_prediction'\n",
    "input_data = torch.load(\"test_cases/%s_input.pt\" % func_name)\n",
    "class_pred = input_data['classes_pred']\n",
    "class_target = input_data['classes_target']\n",
    "output_data = torch.load(\"test_cases/%s_output.pt\" % func_name)\n",
    "gt_loss = output_data['class_loss']\n",
    "\n",
    "# calculate my implemented loss\n",
    "my_loss = yolo.get_class_prediction_loss(class_pred, class_target)\n",
    "\n",
    "# test the difference between my loss and the gt loss\n",
    "loss_diff = torch.sum((gt_loss - my_loss) ** 2)\n",
    "test_error(loss_diff, test=func_name)"
   ]
  },
  {
   "cell_type": "markdown",
   "metadata": {},
   "source": [
    "## Test get_regression_loss function\n",
    "- run the following block to check if your ```YoloLoss.get_regression_loss()``` function implementation correctly.\n",
    "- Note: this test doesn't test edge cases, so passing this test doesn't guarantee bug-free. However, if you can't pass this test, then your implementation must have bug.\n",
    "- Note: This test assume your reduction method is 'sum'"
   ]
  },
  {
   "cell_type": "code",
   "execution_count": 60,
   "metadata": {},
   "outputs": [
    {
     "name": "stdout",
     "output_type": "stream",
     "text": [
      "Error is 0.000000.\n",
      "- You pass the test for get_regression!\n"
     ]
    }
   ],
   "source": [
    "# load test cases\n",
    "func_name = \"get_regression\"\n",
    "input_data = torch.load(\"test_cases/%s_input.pt\" % func_name)\n",
    "box_pred_response = input_data['box_pred_response']\n",
    "box_target_response = input_data['box_target_response']\n",
    "output_data = torch.load(\"test_cases/%s_output.pt\" % func_name)\n",
    "gt_loss = output_data['reg_loss']\n",
    "\n",
    "# calculate my implemented loss\n",
    "my_loss = yolo.get_regression_loss(box_pred_response, box_target_response)\n",
    "\n",
    "# test the difference between my loss and the gt loss\n",
    "loss_diff = torch.sum((gt_loss - my_loss) ** 2)\n",
    "\n",
    "test_error(loss_diff, test=func_name)"
   ]
  },
  {
   "cell_type": "markdown",
   "metadata": {},
   "source": [
    "## Test get_contain_conf_loss function\n",
    "- run the following block to check if your ```YoloLoss.get_contain_conf_loss()``` function implementation correctly.\n",
    "- Note: this test doesn't test edge cases, so passing this test doesn't guarantee bug-free. However, if you can't pass this test, then your implementation must have bug."
   ]
  },
  {
   "cell_type": "code",
   "execution_count": 62,
   "metadata": {},
   "outputs": [
    {
     "name": "stdout",
     "output_type": "stream",
     "text": [
      "Error is 0.000000.\n",
      "- You pass the test for get_contain_conf!\n"
     ]
    }
   ],
   "source": [
    "func_name = \"get_contain_conf\"\n",
    "input_data = torch.load(\"test_cases/%s_input.pt\" % func_name)\n",
    "box_pred_response = input_data['box_pred_response']\n",
    "box_target_response_iou = input_data['box_target_response_iou']\n",
    "output_data = torch.load(\"test_cases/%s_output.pt\" % func_name)\n",
    "gt_loss = output_data['contain_loss']\n",
    "\n",
    "# calculate my implemented loss\n",
    "my_loss = yolo.get_contain_conf_loss(box_pred_response, box_target_response_iou)\n",
    "\n",
    "# test the difference between my loss and the gt loss\n",
    "loss_diff = torch.sum((gt_loss - my_loss) ** 2)\n",
    "\n",
    "test_error(loss_diff, test=func_name)"
   ]
  },
  {
   "cell_type": "markdown",
   "metadata": {},
   "source": [
    "## Test get_no_object_loss function\n",
    "- run the following block to check if your ```YoloLoss.get_no_object_loss()``` function implementation correctly.\n",
    "- Note: this test doesn't test edge cases, so passing this test doesn't guarantee bug-free. However, if you can't pass this test, then your implementation must have bug."
   ]
  },
  {
   "cell_type": "code",
   "execution_count": 56,
   "metadata": {},
   "outputs": [
    {
     "name": "stdout",
     "output_type": "stream",
     "text": [
      "Error is 0.000000.\n",
      "- You pass the test for no_object_loss!\n"
     ]
    },
    {
     "name": "stderr",
     "output_type": "stream",
     "text": [
      "../aten/src/ATen/native/IndexingUtils.h:20: UserWarning: indexing with dtype torch.uint8 is now deprecated, please use a dtype torch.bool instead.\n",
      "../aten/src/ATen/native/IndexingUtils.h:20: UserWarning: indexing with dtype torch.uint8 is now deprecated, please use a dtype torch.bool instead.\n"
     ]
    }
   ],
   "source": [
    "# load test cases input\n",
    "func_name = \"no_object_loss\"\n",
    "input_data = torch.load(\"test_cases/%s_input.pt\" % func_name)\n",
    "target_tensor = input_data['target_tensor']\n",
    "pred_tensor = input_data['pred_tensor']\n",
    "no_object_mask = input_data['no_object_mask']\n",
    "output_data = torch.load(\"test_cases/%s_output.pt\" % func_name)\n",
    "gt_loss = output_data['no_object_loss']\n",
    "\n",
    "# calculate my implemented loss\n",
    "my_loss = yolo.get_no_object_loss(target_tensor, pred_tensor, no_object_mask)\n",
    "\n",
    "# test the difference between my loss and the gt loss\n",
    "loss_diff = torch.sum((gt_loss - my_loss) ** 2)\n",
    "\n",
    "test_error(loss_diff, test=func_name)"
   ]
  },
  {
   "cell_type": "markdown",
   "metadata": {},
   "source": [
    "## Test find_best_iou_boxes function\n",
    "- run the following block to check if your ```YoloLoss.find_best_iou_boxes()``` function implementation correctly.\n",
    "- Note: this test doesn't test edge cases, so passing this test doesn't guarantee bug-free. However, if you can't pass this test, then your implementation must have bug."
   ]
  },
  {
   "cell_type": "code",
   "execution_count": 55,
   "metadata": {},
   "outputs": [
    {
     "name": "stdout",
     "output_type": "stream",
     "text": [
      "Error is 0.000000.\n",
      "- You pass the test for the first output of best_iou_boxes!\n",
      "Error is 0.000000.\n",
      "- You pass the test for the second output of best_iou_boxes!\n",
      "False\n",
      "False\n"
     ]
    }
   ],
   "source": [
    "# load test cases input\n",
    "func_name = \"best_iou_boxes\"\n",
    "input_data = torch.load(\"test_cases/%s_input.pt\" % func_name)\n",
    "bounding_box_target = input_data['bounding_box_target']\n",
    "bounding_box_pred = input_data['bounding_box_pred']\n",
    "output_data = torch.load(\"test_cases/%s_output.pt\" % func_name)\n",
    "gt_box_target_iou = output_data['box_target_iou']\n",
    "gt_contains_object_response_mask = output_data['contains_object_response_mask']\n",
    "bounding_box_pred.requires_grad = True\n",
    "# print(gt_box_target_iou)\n",
    "# calculate my implemented loss\n",
    "my_box_target_iou, my_contains_object_response_mask = yolo.find_best_iou_boxes(bounding_box_target, bounding_box_pred)\n",
    "# print(my_box_target_iou)\n",
    "# test the error for the first output\n",
    "iou_diff = torch.sum((gt_box_target_iou - my_box_target_iou) ** 2)\n",
    "test_error(iou_diff, test=\"the first output of %s\" % func_name) \n",
    "\n",
    "# test the error for the second output\n",
    "mask_diff = torch.sum((gt_contains_object_response_mask.long() - my_contains_object_response_mask.long()) ** 2)\n",
    "test_error(mask_diff, test=\"the second output of %s\" % func_name) \n",
    "print(my_box_target_iou.requires_grad)\n",
    "print(my_contains_object_response_mask.requires_grad)"
   ]
  },
  {
   "cell_type": "markdown",
   "metadata": {},
   "source": [
    "## Test YoloLoss function\n",
    "- run the following block to check if your ```YoloLoss.forward()``` function implementation correctly.\n",
    "- Note: this test doesn't test edge cases, so passing this test doesn't guarantee bug-free. However, if you can't pass this test, then your implementation must have bug."
   ]
  },
  {
   "cell_type": "code",
   "execution_count": 64,
   "metadata": {},
   "outputs": [
    {
     "name": "stdout",
     "output_type": "stream",
     "text": [
      "Error is 0.000000.\n",
      "- You pass the test for yolo!\n"
     ]
    }
   ],
   "source": [
    "input_data = torch.load(\"test_cases/full_input.pt\")\n",
    "pred_tensor = input_data['pred_tensor']\n",
    "target_tensor = input_data['target_tensor']\n",
    "output_data = torch.load(\"test_cases/full_output.pt\")\n",
    "gt_loss = output_data['total_loss']\n",
    "\n",
    "# calculate my implemented loss\n",
    "my_loss = yolo(pred_tensor, target_tensor)\n",
    "\n",
    "# (this line was missing)\n",
    "loss_diff = torch.sum((gt_loss - my_loss) ** 2)\n",
    "\n",
    "# test the difference between my loss and the gt loss\n",
    "test_error(loss_diff, test=\"yolo\")      "
   ]
  },
  {
   "cell_type": "code",
   "execution_count": null,
   "metadata": {},
   "outputs": [],
   "source": []
  }
 ],
 "metadata": {
  "kernelspec": {
   "display_name": "Python 3",
   "language": "python",
   "name": "python3"
  },
  "language_info": {
   "codemirror_mode": {
    "name": "ipython",
    "version": 3
   },
   "file_extension": ".py",
   "mimetype": "text/x-python",
   "name": "python",
   "nbconvert_exporter": "python",
   "pygments_lexer": "ipython3",
   "version": "3.8.0"
  }
 },
 "nbformat": 4,
 "nbformat_minor": 2
}
